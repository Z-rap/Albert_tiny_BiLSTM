{
 "cells": [
  {
   "cell_type": "code",
   "execution_count": 2,
   "id": "d99a86d8-3205-4121-8b0f-24c15ec8a271",
   "metadata": {},
   "outputs": [],
   "source": [
    "import pandas as pd\n",
    "from sklearn.model_selection import train_test_split"
   ]
  },
  {
   "cell_type": "code",
   "execution_count": 3,
   "id": "a4ec6a16",
   "metadata": {},
   "outputs": [],
   "source": [
    "origin_data=pd.read_csv(\"data/weibo_senti_100k.csv\")\n",
    "# print(origin_data.count)\n",
    "train_val,test=train_test_split(origin_data,test_size=0.2)\n",
    "train,val=train_test_split(train_val,test_size=0.1)\n",
    "# train.to_csv(\"data/train.csv\")\n",
    "# test.to_csv(\"data/test.csv\")\n",
    "val.to_csv(\"data/val2.csv\")"
   ]
  },
  {
   "cell_type": "code",
   "execution_count": 13,
   "id": "4e15134c",
   "metadata": {},
   "outputs": [
    {
     "name": "stdout",
     "output_type": "stream",
     "text": [
      "label\n",
      "0    36071\n",
      "1    35921\n",
      "Name: count, dtype: int64\n",
      "label\n",
      "1    12047\n",
      "0    11951\n",
      "Name: count, dtype: int64\n"
     ]
    }
   ],
   "source": [
    "print(train.label.value_counts())\n",
    "print(val.label.value_counts())"
   ]
  }
 ],
 "metadata": {
  "kernelspec": {
   "display_name": "Python 3 (ipykernel)",
   "language": "python",
   "name": "python3"
  },
  "language_info": {
   "codemirror_mode": {
    "name": "ipython",
    "version": 3
   },
   "file_extension": ".py",
   "mimetype": "text/x-python",
   "name": "python",
   "nbconvert_exporter": "python",
   "pygments_lexer": "ipython3",
   "version": "3.8.10"
  },
  "toc-showtags": false
 },
 "nbformat": 4,
 "nbformat_minor": 5
}
