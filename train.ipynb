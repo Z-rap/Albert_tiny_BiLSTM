{
 "cells": [
  {
   "cell_type": "code",
   "execution_count": 2,
   "metadata": {},
   "outputs": [
    {
     "name": "stderr",
     "output_type": "stream",
     "text": [
      "/root/miniconda3/lib/python3.8/site-packages/torchvision/io/image.py:13: UserWarning: Failed to load image Python extension: libtorch_cuda_cu.so: cannot open shared object file: No such file or directory\n",
      "  warn(f\"Failed to load image Python extension: {e}\")\n"
     ]
    }
   ],
   "source": [
    "#huggingface\n",
    "from datasets import load_dataset\n",
    "#torch data\n",
    "import torch\n",
    "from torch.utils.data import Dataset\n",
    "from torch.utils.data import DataLoader\n",
    "#huggingface \n",
    "from transformers import BertTokenizer, BertModel\n",
    "from transformers import AutoModel,AutoTokenizer\n",
    "#torch nn\n",
    "import torch.nn as nn\n",
    "import torch.optim as optim\n",
    "from torch.nn.functional import one_hot\n",
    "\n",
    "#lightening\n",
    "import pytorch_lightning as pl\n",
    "from pytorch_lightning import Trainer\n",
    "\n",
    "\n"
   ]
  },
  {
   "cell_type": "code",
   "execution_count": 3,
   "metadata": {},
   "outputs": [],
   "source": [
    "#超参数\n",
    "batch_size=128 #句子长度：200\n",
    "num_epochs=30\n",
    "dropout=0.4\n",
    "rnn_hidden=312\n",
    "rnn_layer=1\n",
    "class_num=2\n",
    "lr=0.001"
   ]
  },
  {
   "cell_type": "code",
   "execution_count": 4,
   "metadata": {},
   "outputs": [],
   "source": [
    "#加载数据集Dataset\n",
    "class MydataSet(Dataset):\n",
    "    def __init__(self,path,split):\n",
    "        self.dataset=load_dataset(\"csv\",data_files=path,split=split)\n",
    "\n",
    "    def __getitem__(self, index):\n",
    "        text=self.dataset[index][\"review\"]\n",
    "        label=self.dataset[index][\"label\"]\n",
    "        return text,label\n",
    "    def __len__(self):\n",
    "        return len(self.dataset)\n",
    "    \n"
   ]
  },
  {
   "cell_type": "code",
   "execution_count": 5,
   "metadata": {},
   "outputs": [],
   "source": [
    "# data=MydataSet(\"./data/train.csv\",'train')\n",
    "# data[2]"
   ]
  },
  {
   "cell_type": "code",
   "execution_count": 6,
   "metadata": {},
   "outputs": [],
   "source": [
    "#Dataloader生成迭代器\n",
    "def collate_fn(data):\n",
    "    \n",
    "    # print(len(data)) #128\n",
    "    sentence=[i[0] for i in data] #和参考代码不一样：[i[0] for i in data]\n",
    "    label=[i[1] for i in data]\n",
    "\n",
    "    data=token.batch_encode_plus(batch_text_or_text_pairs=sentence,\n",
    "                                 max_length=200, #补全到长度200\n",
    "                                 padding='max_length',\n",
    "                                 pad_to_max_length=True,\n",
    "                                 return_tensors='pt',\n",
    "                                 truncation=True,\n",
    "                                 return_length=True)\n",
    "    input_ids=data['input_ids']\n",
    "    attention_mask=data['attention_mask']\n",
    "    token_type_ids=data['token_type_ids']\n",
    "    label=torch.LongTensor(label)\n",
    "    length=data['length']\n",
    "    return input_ids,attention_mask,token_type_ids,label"
   ]
  },
  {
   "cell_type": "code",
   "execution_count": 7,
   "metadata": {},
   "outputs": [],
   "source": [
    "class EasyModule(nn.Module):\n",
    "    def __init__(self):\n",
    "        super(EasyModule, self).__init__()\n",
    "        self.drop=drop\n",
    "        self.hidden_dim=hidden_dim\n",
    "        self.output_dim=output_dim\n",
    "        self.embedding=AutoModel.from_pretrained(\"albert_chinese_tiny\")\n",
    "        for param in self.embedding.parameters():\n",
    "            param.requires_grad = False\n",
    "        self.lstm=nn.LSTM(input_size=768,\n",
    "                                    hidden_size=hidden_dim,\n",
    "                                    num_layers=2,\n",
    "                                    batch_first=True,\n",
    "                                    bidirectional=True,\n",
    "                                    dropout=self.drop)\n",
    "        self.fc=nn.Linear(2*hidden_dim,self.output_dim)\n",
    "    def forward(self, input_ids, attention_mask,token_type_ids):\n",
    "        embedding=self.embedding(input_ids=input_ids,attention_mask=attention_mask,token_type_ids=token_type_ids)\n",
    "        embedding=embedding.last_hidden_state\n",
    "        \n",
    "        print(embedding)\n"
   ]
  },
  {
   "cell_type": "code",
   "execution_count": 1,
   "metadata": {},
   "outputs": [
    {
     "name": "stderr",
     "output_type": "stream",
     "text": [
      "\n",
      "KeyboardInterrupt\n",
      "\n"
     ]
    }
   ],
   "source": [
    "class BiLSTMmodule(nn.Module):\n",
    "    def __init__(self,drop,hidden_dim,output_dim):\n",
    "        super(BiLSTMmodule, self).__init__()\n",
    "        self.drop=drop\n",
    "        self.hidden_dim=hidden_dim\n",
    "        self.output_dim=output_dim\n",
    "\n",
    "        self.embedding=AutoModel.from_pretrained(local_files_only=True,pretrained_model_name_or_path=\"./albert_chinese_tiny\")#git lfs下载！！\n",
    "        for param in self.embedding.parameters():\n",
    "            param.requires_grad_(False)\n",
    "        \n",
    "        self.lstm=nn.LSTM(input_size=312,#312维的embedding???\n",
    "                            hidden_size=hidden_dim,\n",
    "                            num_layers=2,\n",
    "                            batch_first=True,\n",
    "                            bidirectional=True,\n",
    "                            dropout=self.drop)\n",
    "        self.fc=nn.Linear(2*self.hidden_dim,self.output_dim) #BiLSTM，正向+反向\n",
    "    def forward(self,input_ids,attention_mask,token_type_ids): #input_ids=attention_mask=[128,200] \n",
    "        embedded=self.embedding(input_ids=input_ids,attention_mask=attention_mask,token_type_ids=token_type_ids)\n",
    "        embedded=embedded.last_hidden_state\n",
    "        # print(\"embedded shape:\"+str(embedded.shape)) # embedded shape:torch.Size([128, 200, 312])\n",
    "        out,(h_n,c_n)=self.lstm(embedded)\n",
    "        # print(out.shape,h_n.shape,c_n.shape)\n",
    "        # out:([128, 200, 624]) h_n:([4, 128, 312]) c_n:([4, 128, 312])\n",
    "        # print(out[:, -1, :312] == h_n[-2,:,:]) #True\n",
    "        # print(out[:, 0, 312:] == h_n[-1, :, :]) #True\n",
    "        # print(h_n[-1, :, :].shape) #torch.Size([128, 312])\n",
    "        output=torch.cat((h_n[-2, :, :], h_n[-1, :, :]), dim=1)#cat拼接函数，dim指示向哪个维度拼接\n",
    "        # print(\"output shape\"+str(output.shape))\n",
    "        # output shape:torch.Size([128, 624])\n",
    "        output=self.fc(output)\n",
    "        print(output.shape)\n",
    "        return output\n",
    "    \n",
    "if __name__==\"__main__\":\n",
    "    dataset=MydataSet(\"./data/train.csv\",'train')\n",
    "    token=BertTokenizer.from_pretrained(\"./albert_chinese_tiny\")#用BertTokenizer\n",
    "    loader=DataLoader(dataset=dataset,batch_size=batch_size,shuffle=True,collate_fn=collate_fn,drop_last=True)\n",
    "    model=BiLSTMmodule(drop=dropout,hidden_dim=rnn_hidden,output_dim=class_num)\n",
    "    for i,(input_ids,attention_mask,token_type_ids,label) in enumerate(loader):\n",
    "        print(attention_mask.shape)\n",
    "        model.forward(input_ids,attention_mask,token_type_ids)\n",
    "        break\n",
    "\n",
    "        "
   ]
  },
  {
   "cell_type": "code",
   "execution_count": 29,
   "metadata": {},
   "outputs": [],
   "source": [
    "class BiLSTMLightening(pl.LightningModule):\n",
    "    def __init__(self, drop,hidden_dim,output_dim):\n",
    "        super(BiLSTMLightening,self).__init__()\n",
    "        self.model = BiLSTMmodule(drop,hidden_dim,output_dim)\n",
    "        self.criterion = nn.CrossEntropyLoss() #损失函数\n",
    "        self.train_dataset=MydataSet(\"./data/train.csv\",'train')\n",
    "        self.val_dataset=MydataSet(\"./data/val.csv\",'train')\n",
    "    def configure_optimizers(self):#优化器\n",
    "        optimizer = optim.AdamW(self.parameters(), lr=lr)\n",
    "        return optimizer\n",
    "    def forward(self,input_ids,attention_mask,token_type_ids):\n",
    "        return self.model(input_ids,attention_mask,token_type_ids)\n",
    "\n",
    "    def train_datalader(self):\n",
    "        train_loader=DataLoader(dataset=self.train_dataset,batch_size=batch_size,shuffle=True,collate_fn=collate_fn)\n",
    "        return train_loader\n",
    "\n",
    "    def training_step(self,batch,batch_idx):\n",
    "        input_ids,attention_mask,token_type_ids,label = batch #batch?\n",
    "        y=one_hot(label,num_classes=class_num)\n",
    "        y=y.to(dtype=torch.float)\n",
    "        y_hat=self.model(input_ids,attention_mask,token_type_ids) #计算模型的输出\n",
    "        loss=self.criterion(y_hat,y) #对比计算损失\n",
    "        self.log('traing_loss',loss,prog_bar=True,logger=True,on_step=True,on_epoch=True) #输出\n",
    "        return loss\n",
    "    \n",
    "    def train_dataloader(self):\n",
    "        train_loader=DataLoader(dataset=self.train_dataset,batch_size=batch_size,shuffle=True,collate_fn=collate_fn)\n",
    "        return train_loader\n",
    "    \n",
    "    def validation_step(self,batch,batch_idx):\n",
    "        input_ids,attention_mask,token_type_ids,label = batch\n",
    "        y=one_hot(label,num_classes=class_num)\n",
    "        y=y.to(dtype=torch.float)\n",
    "        y_hat=self.model(input_ids,attention_mask,token_type_ids)\n",
    "        loss=self.criterion(y_hat,y)\n",
    "        self.log('val_loss',loss,prog_bar=True,logger=True,on_step=True,on_epoch=True)\n",
    "        return loss\n",
    "    \n",
    "    def val_dataloader(self):\n",
    "        val_loader=DataLoader(dataset=self.val_dataset,batch_size=batch_size,shuffle=False,collate_fn=collate_fn)\n",
    "        return val_loader\n",
    "    "
   ]
  },
  {
   "cell_type": "code",
   "execution_count": 11,
   "metadata": {},
   "outputs": [
    {
     "name": "stdout",
     "output_type": "stream",
     "text": [
      "torch.Size([128, 200])\n"
     ]
    },
    {
     "ename": "RuntimeError",
     "evalue": "The size of tensor a (624) must match the size of tensor b (312) at non-singleton dimension 1",
     "output_type": "error",
     "traceback": [
      "\u001b[0;31m---------------------------------------------------------------------------\u001b[0m",
      "\u001b[0;31mRuntimeError\u001b[0m                              Traceback (most recent call last)",
      "Input \u001b[0;32mIn [11]\u001b[0m, in \u001b[0;36m<cell line: 1>\u001b[0;34m()\u001b[0m\n\u001b[1;32m     13\u001b[0m \u001b[38;5;28;01mfor\u001b[39;00m i,(input_ids,attention_mask,token_type_ids,label) \u001b[38;5;129;01min\u001b[39;00m \u001b[38;5;28menumerate\u001b[39m(loader):\n\u001b[1;32m     14\u001b[0m     \u001b[38;5;28mprint\u001b[39m(attention_mask\u001b[38;5;241m.\u001b[39mshape)\n\u001b[0;32m---> 15\u001b[0m     \u001b[43mmodel\u001b[49m\u001b[38;5;241;43m.\u001b[39;49m\u001b[43mforward\u001b[49m\u001b[43m(\u001b[49m\u001b[43minput_ids\u001b[49m\u001b[43m,\u001b[49m\u001b[43mattention_mask\u001b[49m\u001b[43m,\u001b[49m\u001b[43mtoken_type_ids\u001b[49m\u001b[43m)\u001b[49m\n\u001b[1;32m     16\u001b[0m     \u001b[38;5;28;01mbreak\u001b[39;00m\n",
      "Input \u001b[0;32mIn [10]\u001b[0m, in \u001b[0;36mBiLSTMmodule.forward\u001b[0;34m(self, input_ids, attention_mask, token_type_ids)\u001b[0m\n\u001b[1;32m     23\u001b[0m out,(h_n,c_n)\u001b[38;5;241m=\u001b[39m\u001b[38;5;28mself\u001b[39m\u001b[38;5;241m.\u001b[39mlstm(embedded)\n\u001b[1;32m     24\u001b[0m \u001b[38;5;66;03m# print(out.shape,h_n.shape,c_n.shape)\u001b[39;00m\n\u001b[1;32m     25\u001b[0m \u001b[38;5;66;03m# out:([128, 200, 624]) h_n:([4, 128, 312]) c_n:([4, 128, 312])\u001b[39;00m\n\u001b[0;32m---> 26\u001b[0m \u001b[38;5;28mprint\u001b[39m(\u001b[43mout\u001b[49m\u001b[43m[\u001b[49m\u001b[43m:\u001b[49m\u001b[43m,\u001b[49m\u001b[43m \u001b[49m\u001b[38;5;241;43m-\u001b[39;49m\u001b[38;5;241;43m1\u001b[39;49m\u001b[43m,\u001b[49m\u001b[43m \u001b[49m\u001b[43m:\u001b[49m\u001b[38;5;241;43m624\u001b[39;49m\u001b[43m]\u001b[49m\u001b[43m \u001b[49m\u001b[38;5;241;43m==\u001b[39;49m\u001b[43m \u001b[49m\u001b[43mh_n\u001b[49m\u001b[43m[\u001b[49m\u001b[38;5;241;43m-\u001b[39;49m\u001b[38;5;241;43m2\u001b[39;49m\u001b[43m,\u001b[49m\u001b[43m:\u001b[49m\u001b[43m,\u001b[49m\u001b[43m:\u001b[49m\u001b[43m]\u001b[49m)\n\u001b[1;32m     27\u001b[0m \u001b[38;5;66;03m# print(out[:, 0, 768:] == h_n[-1, :, :])\u001b[39;00m\n\u001b[1;32m     28\u001b[0m output\u001b[38;5;241m=\u001b[39mtorch\u001b[38;5;241m.\u001b[39mcat((h_n[\u001b[38;5;241m-\u001b[39m\u001b[38;5;241m2\u001b[39m, :, :], h_n[\u001b[38;5;241m-\u001b[39m\u001b[38;5;241m1\u001b[39m, :, :]), dim\u001b[38;5;241m=\u001b[39m\u001b[38;5;241m1\u001b[39m)\u001b[38;5;66;03m#????\u001b[39;00m\n",
      "\u001b[0;31mRuntimeError\u001b[0m: The size of tensor a (624) must match the size of tensor b (312) at non-singleton dimension 1"
     ]
    }
   ],
   "source": [
    "if __name__==\"__main__\":\n",
    "\n",
    "\n",
    "    # print(len(dataset))\n",
    "    # print(dataset[0])\n",
    "    # print(dataset[0][0])\n",
    "\n",
    "    dataset=MydataSet(\"./data/train.csv\",'train')\n",
    "    token=BertTokenizer.from_pretrained(\"./albert_chinese_tiny\")#用BertTokenizer\n",
    "    loader=DataLoader(dataset=dataset,batch_size=batch_size,shuffle=True,collate_fn=collate_fn,drop_last=True)\n",
    "    \n",
    "    model=BiLSTMmodule(drop=dropout,hidden_dim=rnn_hidden,output_dim=class_num)\n",
    "    for i,(input_ids,attention_mask,token_type_ids,label) in enumerate(loader):\n",
    "        print(attention_mask.shape)\n",
    "        model.forward(input_ids,attention_mask,token_type_ids)\n",
    "        break\n",
    "\n",
    "    # trainer=Trainer(max_epochs=2,limit_train_batches=10,limit_val_batches=5,log_every_n_steps=1,accelerator='gpu',devices=\"auto\")\n",
    "    # model=BiLSTMLightening(drop=dropout,hidden_dim=rnn_hidden,output_dim=class_num)\n",
    "    # trainer.fit(model=model)\n"
   ]
  }
 ],
 "metadata": {
  "kernelspec": {
   "display_name": "base",
   "language": "python",
   "name": "python3"
  },
  "language_info": {
   "codemirror_mode": {
    "name": "ipython",
    "version": 3
   },
   "file_extension": ".py",
   "mimetype": "text/x-python",
   "name": "python",
   "nbconvert_exporter": "python",
   "pygments_lexer": "ipython3",
   "version": "3.8.10"
  }
 },
 "nbformat": 4,
 "nbformat_minor": 2
}
